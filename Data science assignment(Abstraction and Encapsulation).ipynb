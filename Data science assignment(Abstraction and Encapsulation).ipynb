{
 "cells": [
  {
   "cell_type": "raw",
   "id": "1ce73738-2793-4984-9db9-8fa3f8e063f6",
   "metadata": {},
   "source": [
    "Abstract-Encapsulation - Assignment"
   ]
  },
  {
   "cell_type": "markdown",
   "id": "fd2d0e0d-8363-4661-8826-a82310430063",
   "metadata": {},
   "source": [
    "Question-1- What is Abstraction in OOps? Explain with an example."
   ]
  },
  {
   "cell_type": "markdown",
   "id": "1ddfe142-cdbf-4204-9277-546289572bd0",
   "metadata": {},
   "source": [
    "Answer-1-Abstraction is a core concept in Object-Oriented Programming (OOP) that involves simplifying complex reality by modeling classes based on their essential characteristics. It allows you to create a representation of an object that includes only the relevant attributes and behaviors, abstracting away unnecessary details"
   ]
  },
  {
   "cell_type": "code",
   "execution_count": 1,
   "id": "6465f7a9-9238-49f5-93b7-b99863bbda0e",
   "metadata": {},
   "outputs": [],
   "source": [
    "from abc import ABC, abstractmethod\n",
    "\n",
    "class Shape(ABC):\n",
    "    @abstractmethod\n",
    "    def area(self):\n",
    "        pass\n",
    "\n",
    "class Circle(Shape):\n",
    "    def __init__(self, radius):\n",
    "        self.radius = radius\n",
    "\n",
    "    def area(self):\n",
    "        return 3.14 * self.radius * self.radius\n",
    "\n",
    "class Rectangle(Shape):\n",
    "    def __init__(self, width, height):\n",
    "        self.width = width\n",
    "        self.height = height\n",
    "\n",
    "    def area(self):\n",
    "        return self.width * self.height"
   ]
  },
  {
   "cell_type": "code",
   "execution_count": 2,
   "id": "de0a4c7b-1bc2-4417-b166-c42d0b217133",
   "metadata": {},
   "outputs": [],
   "source": [
    "circle = Circle(5)"
   ]
  },
  {
   "cell_type": "code",
   "execution_count": 3,
   "id": "aabc5fa0-12bb-49da-9d18-36f80a798b36",
   "metadata": {},
   "outputs": [],
   "source": [
    "rectangle = Rectangle(4, 6)"
   ]
  },
  {
   "cell_type": "code",
   "execution_count": 4,
   "id": "9b506b5d-3cfd-40b4-926f-a69322575485",
   "metadata": {},
   "outputs": [
    {
     "data": {
      "text/plain": [
       "78.5"
      ]
     },
     "execution_count": 4,
     "metadata": {},
     "output_type": "execute_result"
    }
   ],
   "source": [
    "circle.area()"
   ]
  },
  {
   "cell_type": "code",
   "execution_count": 6,
   "id": "af39e585-a847-48ed-bb9d-aa90cd9feb49",
   "metadata": {},
   "outputs": [
    {
     "data": {
      "text/plain": [
       "5"
      ]
     },
     "execution_count": 6,
     "metadata": {},
     "output_type": "execute_result"
    }
   ],
   "source": [
    "circle.radius"
   ]
  },
  {
   "cell_type": "markdown",
   "id": "0630dd0f-f71d-4688-811b-4c9d6fa16fd0",
   "metadata": {},
   "source": [
    "Question-2- Differentiate between Abstraction and Encapsulation. Explain with an example."
   ]
  },
  {
   "cell_type": "markdown",
   "id": "5a2fa5c4-d453-4dbe-b868-6eb045108e18",
   "metadata": {},
   "source": [
    "Answer-2-Abstraction involves simplifying complex reality by modeling classes based on their essential characteristics. It allows you to create a representation of an object that includes only the relevant attributes and behaviors, abstracting away unnecessary details."
   ]
  },
  {
   "cell_type": "markdown",
   "id": "0a1cabf1-2220-4057-9f01-3af0b21e4b77",
   "metadata": {},
   "source": [
    "Encapsulation involves bundling data (attributes) and methods (functions) that operate on that data into a single unit (class). It restricts direct access to some components of an object and provides controlled access through methods, maintaining data integrity and preventing unintended modifications."
   ]
  },
  {
   "cell_type": "code",
   "execution_count": 7,
   "id": "16c0245e-9947-49b7-95e6-7e0f0419c6de",
   "metadata": {},
   "outputs": [],
   "source": [
    "class Account:\n",
    "    def __init__(self, account_number, initial_balance):\n",
    "        self.__account_number = account_number  # Encapsulated private attribute\n",
    "        self.__balance = initial_balance        # Encapsulated private attribute\n",
    "\n",
    "    def deposit(self, amount):\n",
    "        if amount > 0:\n",
    "            self.__balance += amount\n",
    "\n",
    "    def withdraw(self, amount):\n",
    "        if 0 < amount <= self.__balance:\n",
    "            self.__balance -= amount\n",
    "\n",
    "    def get_balance(self):\n",
    "        return self.__balance"
   ]
  },
  {
   "cell_type": "code",
   "execution_count": 8,
   "id": "5bcca616-9db5-4edc-b0c5-16ab41b581e9",
   "metadata": {},
   "outputs": [],
   "source": [
    "savings_account = Account(\"AC123\", 1000)"
   ]
  },
  {
   "cell_type": "code",
   "execution_count": 9,
   "id": "f3f61b75-fad5-4a01-a82e-0a43f5ce089b",
   "metadata": {},
   "outputs": [],
   "source": [
    "savings_account.deposit(500)"
   ]
  },
  {
   "cell_type": "code",
   "execution_count": 10,
   "id": "70780a1c-2716-48ac-a134-564919381c0b",
   "metadata": {},
   "outputs": [],
   "source": [
    "savings_account.withdraw(200)"
   ]
  },
  {
   "cell_type": "code",
   "execution_count": 11,
   "id": "301d408c-03af-44fd-a864-9e2e686dbbb3",
   "metadata": {},
   "outputs": [
    {
     "data": {
      "text/plain": [
       "1300"
      ]
     },
     "execution_count": 11,
     "metadata": {},
     "output_type": "execute_result"
    }
   ],
   "source": [
    "savings_account.get_balance()"
   ]
  },
  {
   "cell_type": "markdown",
   "id": "7dde1b1b-db0e-4959-bcdd-a9a7e36f8e37",
   "metadata": {},
   "source": [
    "Question-3- What is abc module in python? Why is it used?"
   ]
  },
  {
   "cell_type": "markdown",
   "id": "5033698f-32aa-4be5-8be1-2246882dad28",
   "metadata": {},
   "source": [
    "Answer-3-\n",
    "The abc module in Python stands for \"Abstract Base Classes.\" It provides the infrastructure for defining abstract base classes, which are classes that cannot be instantiated directly and are meant to be subclassed. Abstract base classes serve as blueprints for other classes and are used to define common interfaces and behaviors that subclasses must implement"
   ]
  },
  {
   "cell_type": "code",
   "execution_count": 12,
   "id": "cc460600-d24f-4f94-a0b5-fc5416cc0c7e",
   "metadata": {},
   "outputs": [],
   "source": [
    "from abc import ABC, abstractmethod\n",
    "\n",
    "class Shape(ABC):\n",
    "    @abstractmethod\n",
    "    def area(self):\n",
    "        pass\n",
    "\n",
    "class Circle(Shape):\n",
    "    def __init__(self, radius):\n",
    "        self.radius = radius\n",
    "\n",
    "    def area(self):\n",
    "        return 3.14 * self.radius * self.radius\n",
    "\n",
    "class Rectangle(Shape):\n",
    "    def __init__(self, width, height):\n",
    "        self.width = width\n",
    "        self.height = height\n",
    "\n",
    "    def area(self):\n",
    "        return self.width * self.height"
   ]
  },
  {
   "cell_type": "code",
   "execution_count": 13,
   "id": "baa7817e-6473-406d-b568-66a361cc656e",
   "metadata": {},
   "outputs": [],
   "source": [
    "circle = Circle(8)"
   ]
  },
  {
   "cell_type": "code",
   "execution_count": 14,
   "id": "4333a65e-deed-4a86-9356-664b3abc625a",
   "metadata": {},
   "outputs": [],
   "source": [
    "rectangle = Rectangle(7, 12)"
   ]
  },
  {
   "cell_type": "code",
   "execution_count": 16,
   "id": "9be486b2-63f5-4048-9a54-bc0b2386fc65",
   "metadata": {},
   "outputs": [
    {
     "data": {
      "text/plain": [
       "200.96"
      ]
     },
     "execution_count": 16,
     "metadata": {},
     "output_type": "execute_result"
    }
   ],
   "source": [
    "circle.area()"
   ]
  },
  {
   "cell_type": "code",
   "execution_count": 18,
   "id": "225f9647-a47d-4b3b-81e5-8adfdb37dd9f",
   "metadata": {},
   "outputs": [
    {
     "data": {
      "text/plain": [
       "12"
      ]
     },
     "execution_count": 18,
     "metadata": {},
     "output_type": "execute_result"
    }
   ],
   "source": [
    "rectangle.height"
   ]
  },
  {
   "cell_type": "code",
   "execution_count": 19,
   "id": "e9765ead-21b6-485e-8bfb-7f2c162da5b5",
   "metadata": {},
   "outputs": [
    {
     "data": {
      "text/plain": [
       "7"
      ]
     },
     "execution_count": 19,
     "metadata": {},
     "output_type": "execute_result"
    }
   ],
   "source": [
    "rectangle.width"
   ]
  },
  {
   "cell_type": "markdown",
   "id": "24ac84eb-d21a-42b1-b042-9080d25e69e8",
   "metadata": {},
   "source": [
    "Question-4-How can we achieve data abstraction?"
   ]
  },
  {
   "cell_type": "markdown",
   "id": "272193ea-c75f-4ca3-9ede-d2b8abb27b0f",
   "metadata": {},
   "source": [
    "Answer-4-Data abstraction can be achieved in Python by using classes, where you expose only the necessary details about the data and hide the implementation details. This involves encapsulating the data and providing controlled access to it through methods. Here's how you can achieve data abstraction"
   ]
  },
  {
   "cell_type": "code",
   "execution_count": 20,
   "id": "e986f021-61a2-4ae0-a37a-7e12c08e701b",
   "metadata": {},
   "outputs": [],
   "source": [
    "class BankAccount:\n",
    "    def __init__(self, account_number, initial_balance):\n",
    "        self._account_number = account_number\n",
    "        self._balance = initial_balance\n",
    "\n",
    "    def get_account_number(self):\n",
    "        return self._account_number\n",
    "\n",
    "    def get_balance(self):\n",
    "        return self._balance\n",
    "\n",
    "    def deposit(self, amount):\n",
    "        if amount > 0:\n",
    "            self._balance += amount\n",
    "\n",
    "    def withdraw(self, amount):\n",
    "        if 0 < amount <= self._balance:\n",
    "            self._balance -= amount"
   ]
  },
  {
   "cell_type": "code",
   "execution_count": 21,
   "id": "5e585b82-f51d-4eea-a118-89d00ada5b52",
   "metadata": {},
   "outputs": [],
   "source": [
    "account = BankAccount(\"123456\", 1000)"
   ]
  },
  {
   "cell_type": "code",
   "execution_count": 23,
   "id": "9a27b777-3d99-4a8d-a012-ca476588860f",
   "metadata": {},
   "outputs": [
    {
     "data": {
      "text/plain": [
       "'123456'"
      ]
     },
     "execution_count": 23,
     "metadata": {},
     "output_type": "execute_result"
    }
   ],
   "source": [
    "account.get_account_number()"
   ]
  },
  {
   "cell_type": "code",
   "execution_count": 25,
   "id": "d401efed-861a-4501-bc89-af71871d7cc3",
   "metadata": {},
   "outputs": [
    {
     "data": {
      "text/plain": [
       "1000"
      ]
     },
     "execution_count": 25,
     "metadata": {},
     "output_type": "execute_result"
    }
   ],
   "source": [
    "account.get_balance()"
   ]
  },
  {
   "cell_type": "code",
   "execution_count": 26,
   "id": "7b6aa875-57e1-4765-811b-5195518f8f28",
   "metadata": {},
   "outputs": [],
   "source": [
    "account.deposit(500)"
   ]
  },
  {
   "cell_type": "code",
   "execution_count": 27,
   "id": "d1186b3b-b5da-484b-bc0d-667463e33dd2",
   "metadata": {},
   "outputs": [],
   "source": [
    "account.withdraw(200)"
   ]
  },
  {
   "cell_type": "code",
   "execution_count": 28,
   "id": "d64eba95-a4a0-4bb9-afc3-8e115ac5d321",
   "metadata": {},
   "outputs": [
    {
     "data": {
      "text/plain": [
       "1300"
      ]
     },
     "execution_count": 28,
     "metadata": {},
     "output_type": "execute_result"
    }
   ],
   "source": [
    "account.get_balance()"
   ]
  },
  {
   "cell_type": "markdown",
   "id": "8b4338d1-3c06-41af-9b77-459edac53a9e",
   "metadata": {},
   "source": [
    "Question-5- Can we create an instance of an abstract class? Explain your answer."
   ]
  },
  {
   "cell_type": "code",
   "execution_count": null,
   "id": "3f524a81-35c5-4bb2-9363-4856fc64192a",
   "metadata": {},
   "outputs": [],
   "source": [
    "A"
   ]
  }
 ],
 "metadata": {
  "kernelspec": {
   "display_name": "Python 3 (ipykernel)",
   "language": "python",
   "name": "python3"
  },
  "language_info": {
   "codemirror_mode": {
    "name": "ipython",
    "version": 3
   },
   "file_extension": ".py",
   "mimetype": "text/x-python",
   "name": "python",
   "nbconvert_exporter": "python",
   "pygments_lexer": "ipython3",
   "version": "3.10.8"
  }
 },
 "nbformat": 4,
 "nbformat_minor": 5
}
